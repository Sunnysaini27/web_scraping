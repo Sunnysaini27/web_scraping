{
 "cells": [
  {
   "cell_type": "code",
   "execution_count": 1,
   "id": "e53bb18f-98ef-47f1-9cc0-03844e596e97",
   "metadata": {},
   "outputs": [],
   "source": [
    "import requests\n",
    "from bs4 import BeautifulSoup as bs\n",
    "from urllib.request import urlopen\n",
    "import logging"
   ]
  },
  {
   "cell_type": "code",
   "execution_count": 2,
   "id": "cc508b35-5ec0-47dd-ad4a-2966486f9403",
   "metadata": {},
   "outputs": [],
   "source": [
    "flipcart_url1 = \"https://www.flipkart.com/search?q=\" + \"Iphone11\""
   ]
  },
  {
   "cell_type": "code",
   "execution_count": 3,
   "id": "0ef37e77-cb12-45aa-8e41-ba87837d2e3b",
   "metadata": {},
   "outputs": [
    {
     "data": {
      "text/plain": [
       "'https://www.flipkart.com/search?q=Iphone11'"
      ]
     },
     "execution_count": 3,
     "metadata": {},
     "output_type": "execute_result"
    }
   ],
   "source": [
    "flipcart_url1"
   ]
  },
  {
   "cell_type": "code",
   "execution_count": 4,
   "id": "a6ca027a-4163-4dce-b62c-28b9f5240bfc",
   "metadata": {},
   "outputs": [],
   "source": [
    "flipcart_url = \"https://www.flipkart.com/search?q=\" + \"Iphone12\""
   ]
  },
  {
   "cell_type": "code",
   "execution_count": 5,
   "id": "e6d31cd7-ea6e-4843-beaa-217fc76330ba",
   "metadata": {},
   "outputs": [
    {
     "data": {
      "text/plain": [
       "'https://www.flipkart.com/search?q=Iphone12'"
      ]
     },
     "execution_count": 5,
     "metadata": {},
     "output_type": "execute_result"
    }
   ],
   "source": [
    "flipcart_url"
   ]
  },
  {
   "cell_type": "code",
   "execution_count": 6,
   "id": "9643fbd8-04c8-4aa9-b473-3bf35b69eda5",
   "metadata": {},
   "outputs": [],
   "source": [
    "urlclient = urlopen(flipcart_url)"
   ]
  },
  {
   "cell_type": "code",
   "execution_count": 7,
   "id": "6a8a000b-db65-4646-9c08-8a46d6a79fb6",
   "metadata": {},
   "outputs": [
    {
     "data": {
      "text/plain": [
       "<http.client.HTTPResponse at 0x7fe14aac6b90>"
      ]
     },
     "execution_count": 7,
     "metadata": {},
     "output_type": "execute_result"
    }
   ],
   "source": [
    "urlclient"
   ]
  },
  {
   "cell_type": "code",
   "execution_count": 8,
   "id": "ef5c0ba8-351b-457d-b425-42e4eb092d13",
   "metadata": {},
   "outputs": [],
   "source": [
    "flipcart_page = urlclient.read()"
   ]
  },
  {
   "cell_type": "code",
   "execution_count": 9,
   "id": "50476c1d-b537-4ddb-8b54-7f8c5788fb81",
   "metadata": {},
   "outputs": [],
   "source": [
    "flipcart_html=bs(flipcart_page,\"html.parser\")"
   ]
  },
  {
   "cell_type": "markdown",
   "id": "0056a8b5-9758-4f7b-a75e-229922ae3eed",
   "metadata": {},
   "source": [
    "flipcart_html"
   ]
  },
  {
   "cell_type": "code",
   "execution_count": 10,
   "id": "3f1c23b4-45d5-4996-bcc6-8d069bc719b0",
   "metadata": {},
   "outputs": [
    {
     "data": {
      "text/plain": [
       "'/apple-iphone-12-purple-64-gb/p/itmfca1e77621c65?pid=MOBG2EPZJUZEYZGK&lid=LSTMOBG2EPZJUZEYZGK3JC9XU&marketplace=FLIPKART&q=Iphone12&store=tyy%2F4io&srno=s_1_1&otracker=search&fm=organic&iid=b2059309-d5f0-4e7f-8c62-9fbbe52287ba.MOBG2EPZJUZEYZGK.SEARCH&ppt=None&ppn=None&ssid=dro99cjjsw0000001686662369230&qH=fe030fadacbafd61'"
      ]
     },
     "execution_count": 10,
     "metadata": {},
     "output_type": "execute_result"
    }
   ],
   "source": [
    "\"/apple-iphone-12-purple-64-gb/p/itmfca1e77621c65?pid=MOBG2EPZJUZEYZGK&lid=LSTMOBG2EPZJUZEYZGK3JC9XU&marketplace=FLIPKART&q=Iphone12&store=tyy%2F4io&srno=s_1_1&otracker=search&fm=organic&iid=b2059309-d5f0-4e7f-8c62-9fbbe52287ba.MOBG2EPZJUZEYZGK.SEARCH&ppt=None&ppn=None&ssid=dro99cjjsw0000001686662369230&qH=fe030fadacbafd61\""
   ]
  },
  {
   "cell_type": "code",
   "execution_count": 11,
   "id": "3333c1cb-9226-4c59-958c-55fb4206c14f",
   "metadata": {},
   "outputs": [
    {
     "data": {
      "text/plain": [
       "'https://www.flipkart.com/apple-iphone-12-purple-64-gb/p/itmfca1e77621c65?pid=MOBG2EPZJUZEYZGK&lid=LSTMOBG2EPZJUZEYZGK3JC9XU&marketplace=FLIPKART&q=Iphone12&store=tyy%2F4io&srno=s_1_1&otracker=search&fm=organic&iid=b2059309-d5f0-4e7f-8c62-9fbbe52287ba.MOBG2EPZJUZEYZGK.SEARCH&ppt=None&ppn=None&ssid=dro99cjjsw0000001686662369230&qH=fe030fadacbafd61'"
      ]
     },
     "execution_count": 11,
     "metadata": {},
     "output_type": "execute_result"
    }
   ],
   "source": [
    "\"https://www.flipkart.com/\"+\"apple-iphone-12-purple-64-gb/p/itmfca1e77621c65?pid=MOBG2EPZJUZEYZGK&lid=LSTMOBG2EPZJUZEYZGK3JC9XU&marketplace=FLIPKART&q=Iphone12&store=tyy%2F4io&srno=s_1_1&otracker=search&fm=organic&iid=b2059309-d5f0-4e7f-8c62-9fbbe52287ba.MOBG2EPZJUZEYZGK.SEARCH&ppt=None&ppn=None&ssid=dro99cjjsw0000001686662369230&qH=fe030fadacbafd61\""
   ]
  },
  {
   "cell_type": "code",
   "execution_count": 12,
   "id": "2dd88577-a65a-4593-bb71-67ec888b75e8",
   "metadata": {},
   "outputs": [],
   "source": [
    "big_box = flipcart_html.findAll(\"div\", {\"class\":\"_1AtVbE col-12-12\"})"
   ]
  },
  {
   "cell_type": "code",
   "execution_count": 13,
   "id": "62532043-9017-4a76-bb6b-68f79813faa3",
   "metadata": {},
   "outputs": [
    {
     "data": {
      "text/plain": [
       "31"
      ]
     },
     "execution_count": 13,
     "metadata": {},
     "output_type": "execute_result"
    }
   ],
   "source": [
    "len(big_box)"
   ]
  },
  {
   "cell_type": "code",
   "execution_count": 14,
   "id": "d5aa7e58-dea9-457f-afc9-fd569e7d03cc",
   "metadata": {},
   "outputs": [
    {
     "data": {
      "text/plain": [
       "'/apple-iphone-12-purple-64-gb/p/itmfca1e77621c65?pid=MOBG2EPZJUZEYZGK&lid=LSTMOBG2EPZJUZEYZGK3JC9XU&marketplace=FLIPKART&q=Iphone12&store=tyy%2F4io&srno=s_1_1&otracker=search&fm=organic&iid=9aec5e41-2b42-43f4-87cf-2d5da61f9265.MOBG2EPZJUZEYZGK.SEARCH&ppt=None&ppn=None&ssid=ozmd8ln58g0000001690194380772&qH=fe030fadacbafd61'"
      ]
     },
     "execution_count": 14,
     "metadata": {},
     "output_type": "execute_result"
    }
   ],
   "source": [
    "big_box[3].div.div.div.a['href']"
   ]
  },
  {
   "cell_type": "code",
   "execution_count": 15,
   "id": "a2805cf9-92bd-42ea-9649-5be25f7d6e35",
   "metadata": {},
   "outputs": [],
   "source": [
    "productlink=\"https://www.flipkart.com\"+big_box[3].div.div.div.a['href']"
   ]
  },
  {
   "cell_type": "code",
   "execution_count": 16,
   "id": "d15126a5-8974-4272-bc0d-54479235f97a",
   "metadata": {},
   "outputs": [],
   "source": [
    "del big_box[0:3]"
   ]
  },
  {
   "cell_type": "code",
   "execution_count": 17,
   "id": "ad073397-5790-41c5-aa2d-ee7c3d1ab7e8",
   "metadata": {},
   "outputs": [
    {
     "name": "stdout",
     "output_type": "stream",
     "text": [
      "https://www.flipkart.com/apple-iphone-12-purple-64-gb/p/itmfca1e77621c65?pid=MOBG2EPZJUZEYZGK&lid=LSTMOBG2EPZJUZEYZGK3JC9XU&marketplace=FLIPKART&q=Iphone12&store=tyy%2F4io&srno=s_1_1&otracker=search&fm=organic&iid=9aec5e41-2b42-43f4-87cf-2d5da61f9265.MOBG2EPZJUZEYZGK.SEARCH&ppt=None&ppn=None&ssid=ozmd8ln58g0000001690194380772&qH=fe030fadacbafd61\n",
      "https://www.flipkart.com/apple-iphone-12-blue-64-gb/p/itm5778ad0d0d255?pid=MOBFWBYZ8DNJNY7N&lid=LSTMOBFWBYZ8DNJNY7NK9PX3E&marketplace=FLIPKART&q=Iphone12&store=tyy%2F4io&srno=s_1_2&otracker=search&fm=organic&iid=9aec5e41-2b42-43f4-87cf-2d5da61f9265.MOBFWBYZ8DNJNY7N.SEARCH&ppt=None&ppn=None&ssid=ozmd8ln58g0000001690194380772&qH=fe030fadacbafd61\n",
      "https://www.flipkart.com/apple-iphone-12-black-64-gb/p/itma2559422bf7c7?pid=MOBFWBYZU5FWK2VP&lid=LSTMOBFWBYZU5FWK2VPFMEI56&marketplace=FLIPKART&q=Iphone12&store=tyy%2F4io&srno=s_1_3&otracker=search&fm=organic&iid=9aec5e41-2b42-43f4-87cf-2d5da61f9265.MOBFWBYZU5FWK2VP.SEARCH&ppt=None&ppn=None&ssid=ozmd8ln58g0000001690194380772&qH=fe030fadacbafd61\n",
      "https://www.flipkart.com/apple-iphone-12-green-64-gb/p/itmc8a19a9686173?pid=MOBFWBYZKK3EJPFW&lid=LSTMOBFWBYZKK3EJPFWVBZVKG&marketplace=FLIPKART&q=Iphone12&store=tyy%2F4io&srno=s_1_4&otracker=search&fm=organic&iid=9aec5e41-2b42-43f4-87cf-2d5da61f9265.MOBFWBYZKK3EJPFW.SEARCH&ppt=None&ppn=None&ssid=ozmd8ln58g0000001690194380772&qH=fe030fadacbafd61\n",
      "https://www.flipkart.com/apple-iphone-12-white-64-gb/p/itm8b88bdc03cd79?pid=MOBFWBYZTK33MBG9&lid=LSTMOBFWBYZTK33MBG9ZFJ0HL&marketplace=FLIPKART&q=Iphone12&store=tyy%2F4io&srno=s_1_5&otracker=search&fm=organic&iid=9aec5e41-2b42-43f4-87cf-2d5da61f9265.MOBFWBYZTK33MBG9.SEARCH&ppt=None&ppn=None&ssid=ozmd8ln58g0000001690194380772&qH=fe030fadacbafd61\n",
      "https://www.flipkart.com/apple-iphone-12-red-128-gb/p/itma7bd86885ed98?pid=MOBFWBYZUHPFWQRD&lid=LSTMOBFWBYZUHPFWQRD6PEPH0&marketplace=FLIPKART&q=Iphone12&store=tyy%2F4io&srno=s_1_6&otracker=search&fm=organic&iid=9aec5e41-2b42-43f4-87cf-2d5da61f9265.MOBFWBYZUHPFWQRD.SEARCH&ppt=None&ppn=None&ssid=ozmd8ln58g0000001690194380772&qH=fe030fadacbafd61\n",
      "https://www.flipkart.com/apple-iphone-12-red-64-gb/p/itm3481e4053d500?pid=MOBFWBYZDP6QCQ8F&lid=LSTMOBFWBYZDP6QCQ8FPGCIEN&marketplace=FLIPKART&q=Iphone12&store=tyy%2F4io&srno=s_1_7&otracker=search&fm=organic&iid=9aec5e41-2b42-43f4-87cf-2d5da61f9265.MOBFWBYZDP6QCQ8F.SEARCH&ppt=None&ppn=None&ssid=ozmd8ln58g0000001690194380772&qH=fe030fadacbafd61\n",
      "https://www.flipkart.com/apple-iphone-12-black-256-gb/p/itm68421fa1c1121?pid=MOBFWBYZ7CR9FRHZ&lid=LSTMOBFWBYZ7CR9FRHZIALAIL&marketplace=FLIPKART&q=Iphone12&store=tyy%2F4io&srno=s_1_8&otracker=search&fm=organic&iid=9aec5e41-2b42-43f4-87cf-2d5da61f9265.MOBFWBYZ7CR9FRHZ.SEARCH&ppt=None&ppn=None&ssid=ozmd8ln58g0000001690194380772&qH=fe030fadacbafd61\n",
      "https://www.flipkart.com/apple-iphone-12-black-128-gb/p/itmf1f0a58f1ecd7?pid=MOBFWBYZK3HACR72&lid=LSTMOBFWBYZK3HACR72T8MSUQ&marketplace=FLIPKART&q=Iphone12&store=tyy%2F4io&srno=s_1_9&otracker=search&fm=organic&iid=9aec5e41-2b42-43f4-87cf-2d5da61f9265.MOBFWBYZK3HACR72.SEARCH&ppt=None&ppn=None&ssid=ozmd8ln58g0000001690194380772&qH=fe030fadacbafd61\n",
      "https://www.flipkart.com/apple-iphone-12-pro-silver-256-gb/p/itm41ac927e82906?pid=MOBFWBYZMZTJZTWK&lid=LSTMOBFWBYZMZTJZTWKASW35U&marketplace=FLIPKART&q=Iphone12&store=tyy%2F4io&srno=s_1_10&otracker=search&fm=organic&iid=9aec5e41-2b42-43f4-87cf-2d5da61f9265.MOBFWBYZMZTJZTWK.SEARCH&ppt=None&ppn=None&ssid=ozmd8ln58g0000001690194380772&qH=fe030fadacbafd61\n",
      "https://www.flipkart.com/apple-iphone-12-purple-128-gb/p/itmebc78f1cb26d3?pid=MOBG2EPZK5ZD9KYS&lid=LSTMOBG2EPZK5ZD9KYSPQWXQ0&marketplace=FLIPKART&q=Iphone12&store=tyy%2F4io&srno=s_1_11&otracker=search&fm=organic&iid=9aec5e41-2b42-43f4-87cf-2d5da61f9265.MOBG2EPZK5ZD9KYS.SEARCH&ppt=None&ppn=None&ssid=ozmd8ln58g0000001690194380772&qH=fe030fadacbafd61\n",
      "https://www.flipkart.com/apple-iphone-12-pro-gold-512-gb/p/itm157b3be191fd1?pid=MOBFWBYZGKFYVTWH&lid=LSTMOBFWBYZGKFYVTWHR65UKC&marketplace=FLIPKART&q=Iphone12&store=tyy%2F4io&srno=s_1_12&otracker=search&fm=organic&iid=9aec5e41-2b42-43f4-87cf-2d5da61f9265.MOBFWBYZGKFYVTWH.SEARCH&ppt=None&ppn=None&ssid=ozmd8ln58g0000001690194380772&qH=fe030fadacbafd61\n",
      "https://www.flipkart.com/apple-iphone-12-mini-red-64-gb/p/itm255dd64643767?pid=MOBFWBYZNVWGWN2U&lid=LSTMOBFWBYZNVWGWN2UIVYMOW&marketplace=FLIPKART&q=Iphone12&store=tyy%2F4io&srno=s_1_13&otracker=search&fm=organic&iid=9aec5e41-2b42-43f4-87cf-2d5da61f9265.MOBFWBYZNVWGWN2U.SEARCH&ppt=None&ppn=None&ssid=ozmd8ln58g0000001690194380772&qH=fe030fadacbafd61\n",
      "https://www.flipkart.com/apple-iphone-12-mini-black-256-gb/p/itmdd8bad2be7933?pid=MOBFWBYZXYYGEUXK&lid=LSTMOBFWBYZXYYGEUXKY0YI9M&marketplace=FLIPKART&q=Iphone12&store=tyy%2F4io&srno=s_1_14&otracker=search&fm=organic&iid=9aec5e41-2b42-43f4-87cf-2d5da61f9265.MOBFWBYZXYYGEUXK.SEARCH&ppt=None&ppn=None&ssid=ozmd8ln58g0000001690194380772&qH=fe030fadacbafd61\n",
      "https://www.flipkart.com/apple-iphone-12-green-256-gb/p/itm6d126e7980774?pid=MOBFWBYZZPFJYYEY&lid=LSTMOBFWBYZZPFJYYEYIUA7H8&marketplace=FLIPKART&q=Iphone12&store=tyy%2F4io&srno=s_1_15&otracker=search&fm=organic&iid=9aec5e41-2b42-43f4-87cf-2d5da61f9265.MOBFWBYZZPFJYYEY.SEARCH&ppt=None&ppn=None&ssid=ozmd8ln58g0000001690194380772&qH=fe030fadacbafd61\n",
      "https://www.flipkart.com/apple-iphone-12-red-256-gb/p/itm16f42310fe29a?pid=MOBFWBYZEBH6SAFP&lid=LSTMOBFWBYZEBH6SAFPZO0RBP&marketplace=FLIPKART&q=Iphone12&store=tyy%2F4io&srno=s_1_16&otracker=search&fm=organic&iid=9aec5e41-2b42-43f4-87cf-2d5da61f9265.MOBFWBYZEBH6SAFP.SEARCH&ppt=None&ppn=None&ssid=ozmd8ln58g0000001690194380772&qH=fe030fadacbafd61\n",
      "https://www.flipkart.com/apple-iphone-12-mini-white-256-gb/p/itm8d17133414e05?pid=MOBFWBYZZWHGNYXK&lid=LSTMOBFWBYZZWHGNYXKKYOWBY&marketplace=FLIPKART&q=Iphone12&store=tyy%2F4io&srno=s_1_17&otracker=search&fm=organic&iid=9aec5e41-2b42-43f4-87cf-2d5da61f9265.MOBFWBYZZWHGNYXK.SEARCH&ppt=None&ppn=None&ssid=ozmd8ln58g0000001690194380772&qH=fe030fadacbafd61\n",
      "https://www.flipkart.com/apple-iphone-12-mini-black-128-gb/p/itm0eb512c195bdf?pid=MOBFWBYZH2AMPNPD&lid=LSTMOBFWBYZH2AMPNPDMB1TEO&marketplace=FLIPKART&q=Iphone12&store=tyy%2F4io&srno=s_1_18&otracker=search&fm=organic&iid=9aec5e41-2b42-43f4-87cf-2d5da61f9265.MOBFWBYZH2AMPNPD.SEARCH&ppt=None&ppn=None&ssid=ozmd8ln58g0000001690194380772&qH=fe030fadacbafd61\n",
      "https://www.flipkart.com/apple-iphone-12-white-128-gb/p/itm95393f4c6cc59?pid=MOBFWBYZBTZFGJF9&lid=LSTMOBFWBYZBTZFGJF9RAHZAK&marketplace=FLIPKART&q=Iphone12&store=tyy%2F4io&srno=s_1_19&otracker=search&fm=organic&iid=9aec5e41-2b42-43f4-87cf-2d5da61f9265.MOBFWBYZBTZFGJF9.SEARCH&ppt=None&ppn=None&ssid=ozmd8ln58g0000001690194380772&qH=fe030fadacbafd61\n",
      "https://www.flipkart.com/apple-iphone-12-pro-graphite-512-gb/p/itmdf0ffb4f2150f?pid=MOBFWBYZ4ZZ5VUQD&lid=LSTMOBFWBYZ4ZZ5VUQDSMPMJK&marketplace=FLIPKART&q=Iphone12&store=tyy%2F4io&srno=s_1_20&otracker=search&fm=organic&iid=9aec5e41-2b42-43f4-87cf-2d5da61f9265.MOBFWBYZ4ZZ5VUQD.SEARCH&ppt=None&ppn=None&ssid=ozmd8ln58g0000001690194380772&qH=fe030fadacbafd61\n",
      "https://www.flipkart.com/apple-iphone-12-pro-max-graphite-128-gb/p/itm973c298184f51?pid=MOBFWBYZFDGQSDWS&lid=LSTMOBFWBYZFDGQSDWS6UBAEI&marketplace=FLIPKART&q=Iphone12&store=tyy%2F4io&srno=s_1_21&otracker=search&fm=organic&iid=9aec5e41-2b42-43f4-87cf-2d5da61f9265.MOBFWBYZFDGQSDWS.SEARCH&ppt=None&ppn=None&ssid=ozmd8ln58g0000001690194380772&qH=fe030fadacbafd61\n",
      "https://www.flipkart.com/apple-iphone-12-pro-max-graphite-512-gb/p/itm52a5e8e630441?pid=MOBFWBYZZZ6DWWFZ&lid=LSTMOBFWBYZZZ6DWWFZJWJVPK&marketplace=FLIPKART&q=Iphone12&store=tyy%2F4io&srno=s_1_22&otracker=search&fm=organic&iid=9aec5e41-2b42-43f4-87cf-2d5da61f9265.MOBFWBYZZZ6DWWFZ.SEARCH&ppt=None&ppn=None&ssid=ozmd8ln58g0000001690194380772&qH=fe030fadacbafd61\n",
      "https://www.flipkart.com/apple-iphone-12-blue-128-gb/p/itm02853ae92e90a?pid=MOBFWBYZKPTZF9VG&lid=LSTMOBFWBYZKPTZF9VGJD5AMO&marketplace=FLIPKART&q=Iphone12&store=tyy%2F4io&srno=s_1_23&otracker=search&fm=organic&iid=9aec5e41-2b42-43f4-87cf-2d5da61f9265.MOBFWBYZKPTZF9VG.SEARCH&ppt=None&ppn=None&ssid=ozmd8ln58g0000001690194380772&qH=fe030fadacbafd61\n",
      "https://www.flipkart.com/apple-iphone-12-green-128-gb/p/itm4e0a120f7d9c4?pid=MOBFWBYZQXUEHF48&lid=LSTMOBFWBYZQXUEHF48LUVQNT&marketplace=FLIPKART&q=Iphone12&store=tyy%2F4io&srno=s_1_24&otracker=search&fm=organic&iid=9aec5e41-2b42-43f4-87cf-2d5da61f9265.MOBFWBYZQXUEHF48.SEARCH&ppt=None&ppn=None&ssid=ozmd8ln58g0000001690194380772&qH=fe030fadacbafd61\n"
     ]
    },
    {
     "ename": "AttributeError",
     "evalue": "'NoneType' object has no attribute 'a'",
     "output_type": "error",
     "traceback": [
      "\u001b[0;31m---------------------------------------------------------------------------\u001b[0m",
      "\u001b[0;31mAttributeError\u001b[0m                            Traceback (most recent call last)",
      "Cell \u001b[0;32mIn [17], line 2\u001b[0m\n\u001b[1;32m      1\u001b[0m \u001b[38;5;28;01mfor\u001b[39;00m i \u001b[38;5;129;01min\u001b[39;00m big_box:\n\u001b[0;32m----> 2\u001b[0m     \u001b[38;5;28mprint\u001b[39m(\u001b[38;5;124m\"\u001b[39m\u001b[38;5;124mhttps://www.flipkart.com\u001b[39m\u001b[38;5;124m\"\u001b[39m \u001b[38;5;241m+\u001b[39m\u001b[43mi\u001b[49m\u001b[38;5;241;43m.\u001b[39;49m\u001b[43mdiv\u001b[49m\u001b[38;5;241;43m.\u001b[39;49m\u001b[43mdiv\u001b[49m\u001b[38;5;241;43m.\u001b[39;49m\u001b[43mdiv\u001b[49m\u001b[38;5;241;43m.\u001b[39;49m\u001b[43ma\u001b[49m[\u001b[38;5;124m'\u001b[39m\u001b[38;5;124mhref\u001b[39m\u001b[38;5;124m'\u001b[39m])\n",
      "\u001b[0;31mAttributeError\u001b[0m: 'NoneType' object has no attribute 'a'"
     ]
    }
   ],
   "source": [
    "for i in big_box:\n",
    "    print(\"https://www.flipkart.com\" +i.div.div.div.a['href'])"
   ]
  },
  {
   "cell_type": "code",
   "execution_count": 18,
   "id": "b6cf6142-a056-4923-840c-990fa99f7226",
   "metadata": {},
   "outputs": [],
   "source": [
    "product_req = requests.get(productlink)"
   ]
  },
  {
   "cell_type": "code",
   "execution_count": 19,
   "id": "dfd2bbe5-91bd-48d9-bf56-5d9310a6c665",
   "metadata": {},
   "outputs": [
    {
     "data": {
      "text/plain": [
       "'https://www.flipkart.com/apple-iphone-12-purple-64-gb/p/itmfca1e77621c65?pid=MOBG2EPZJUZEYZGK&lid=LSTMOBG2EPZJUZEYZGK3JC9XU&marketplace=FLIPKART&q=Iphone12&store=tyy%2F4io&srno=s_1_1&otracker=search&fm=organic&iid=9aec5e41-2b42-43f4-87cf-2d5da61f9265.MOBG2EPZJUZEYZGK.SEARCH&ppt=None&ppn=None&ssid=ozmd8ln58g0000001690194380772&qH=fe030fadacbafd61'"
      ]
     },
     "execution_count": 19,
     "metadata": {},
     "output_type": "execute_result"
    }
   ],
   "source": [
    "productlink"
   ]
  },
  {
   "cell_type": "code",
   "execution_count": 20,
   "id": "f9251791-6f63-49be-b51d-b7b937188389",
   "metadata": {},
   "outputs": [],
   "source": [
    "product_html=bs(product_req.text,'html.parser')"
   ]
  },
  {
   "cell_type": "code",
   "execution_count": 21,
   "id": "08e76033-eb82-4717-acd0-cbdd99b23d6e",
   "metadata": {},
   "outputs": [],
   "source": [
    "comment_box=product_html.find_all(\"div\", {\"class\": \"_16PBlm\"})"
   ]
  },
  {
   "cell_type": "code",
   "execution_count": 22,
   "id": "6e4cc0f1-e14b-45db-886f-d6c31076267a",
   "metadata": {},
   "outputs": [
    {
     "data": {
      "text/plain": [
       "11"
      ]
     },
     "execution_count": 22,
     "metadata": {},
     "output_type": "execute_result"
    }
   ],
   "source": [
    "len(comment_box)"
   ]
  },
  {
   "cell_type": "code",
   "execution_count": 23,
   "id": "d540ce6b-d3b4-4407-b152-9830fe48e6f4",
   "metadata": {},
   "outputs": [
    {
     "data": {
      "text/plain": [
       "'Arjun  Chakravarti '"
      ]
     },
     "execution_count": 23,
     "metadata": {},
     "output_type": "execute_result"
    }
   ],
   "source": [
    "comment_box[0].div.div.find_all(\"p\",{\"class\": \"_2sc7ZR _2V5EHH\"})[0].text"
   ]
  },
  {
   "cell_type": "code",
   "execution_count": 24,
   "id": "f8056dcc-c474-4032-a2ed-2a55bc589e06",
   "metadata": {},
   "outputs": [
    {
     "name": "stdout",
     "output_type": "stream",
     "text": [
      "Arjun  Chakravarti \n",
      "Rupesh Thik\n",
      "Jaya chandra  Reddy\n",
      "Shivam Thakur\n",
      "Najir  Hussain \n",
      "Sibsankar Das\n",
      "Sivaramaraju Raju\n",
      "Shivam Kengale\n",
      "Manoj Kumar \n",
      "Flipkart Customer\n"
     ]
    },
    {
     "ename": "AttributeError",
     "evalue": "'NoneType' object has no attribute 'div'",
     "output_type": "error",
     "traceback": [
      "\u001b[0;31m---------------------------------------------------------------------------\u001b[0m",
      "\u001b[0;31mAttributeError\u001b[0m                            Traceback (most recent call last)",
      "Cell \u001b[0;32mIn [24], line 2\u001b[0m\n\u001b[1;32m      1\u001b[0m \u001b[38;5;28;01mfor\u001b[39;00m i \u001b[38;5;129;01min\u001b[39;00m comment_box:\n\u001b[0;32m----> 2\u001b[0m     \u001b[38;5;28mprint\u001b[39m(\u001b[43mi\u001b[49m\u001b[38;5;241;43m.\u001b[39;49m\u001b[43mdiv\u001b[49m\u001b[38;5;241;43m.\u001b[39;49m\u001b[43mdiv\u001b[49m\u001b[38;5;241m.\u001b[39mfind_all(\u001b[38;5;124m\"\u001b[39m\u001b[38;5;124mp\u001b[39m\u001b[38;5;124m\"\u001b[39m,{\u001b[38;5;124m\"\u001b[39m\u001b[38;5;124mclass\u001b[39m\u001b[38;5;124m\"\u001b[39m: \u001b[38;5;124m\"\u001b[39m\u001b[38;5;124m_2sc7ZR _2V5EHH\u001b[39m\u001b[38;5;124m\"\u001b[39m})[\u001b[38;5;241m0\u001b[39m]\u001b[38;5;241m.\u001b[39mtext)\n",
      "\u001b[0;31mAttributeError\u001b[0m: 'NoneType' object has no attribute 'div'"
     ]
    }
   ],
   "source": [
    "for i in comment_box:\n",
    "    print(i.div.div.find_all(\"p\",{\"class\": \"_2sc7ZR _2V5EHH\"})[0].text)"
   ]
  },
  {
   "cell_type": "code",
   "execution_count": 26,
   "id": "ec68126e-5fa8-4a5d-887c-be157771a6f9",
   "metadata": {},
   "outputs": [
    {
     "name": "stdout",
     "output_type": "stream",
     "text": [
      "Arjun  Chakravarti \n",
      "Rupesh Thik\n",
      "Jaya chandra  Reddy\n",
      "Shivam Thakur\n",
      "Najir  Hussain \n",
      "Sibsankar Das\n",
      "Sivaramaraju Raju\n",
      "Shivam Kengale\n",
      "Manoj Kumar \n",
      "Flipkart Customer\n"
     ]
    },
    {
     "ename": "AttributeError",
     "evalue": "'NoneType' object has no attribute 'div'",
     "output_type": "error",
     "traceback": [
      "\u001b[0;31m---------------------------------------------------------------------------\u001b[0m",
      "\u001b[0;31mAttributeError\u001b[0m                            Traceback (most recent call last)",
      "Cell \u001b[0;32mIn [26], line 2\u001b[0m\n\u001b[1;32m      1\u001b[0m \u001b[38;5;28;01mfor\u001b[39;00m i \u001b[38;5;129;01min\u001b[39;00m comment_box:\n\u001b[0;32m----> 2\u001b[0m     \u001b[38;5;28mprint\u001b[39m(\u001b[43mi\u001b[49m\u001b[38;5;241;43m.\u001b[39;49m\u001b[43mdiv\u001b[49m\u001b[38;5;241;43m.\u001b[39;49m\u001b[43mdiv\u001b[49m\u001b[38;5;241m.\u001b[39mfind_all(\u001b[38;5;124m\"\u001b[39m\u001b[38;5;124mp\u001b[39m\u001b[38;5;124m\"\u001b[39m,{\u001b[38;5;124m\"\u001b[39m\u001b[38;5;124mclass\u001b[39m\u001b[38;5;124m\"\u001b[39m: \u001b[38;5;124m\"\u001b[39m\u001b[38;5;124m_2sc7ZR _2V5EHH\u001b[39m\u001b[38;5;124m\"\u001b[39m})[\u001b[38;5;241m0\u001b[39m]\u001b[38;5;241m.\u001b[39mtext)\n",
      "\u001b[0;31mAttributeError\u001b[0m: 'NoneType' object has no attribute 'div'"
     ]
    }
   ],
   "source": [
    "for i in comment_box:\n",
    "    print(i.div.div.find_all(\"p\",{\"class\": \"_2sc7ZR _2V5EHH\"})[0].text)"
   ]
  },
  {
   "cell_type": "code",
   "execution_count": 27,
   "id": "1f334ea4-c8e6-4955-9c61-696157cd50f6",
   "metadata": {},
   "outputs": [
    {
     "data": {
      "text/plain": [
       "'5'"
      ]
     },
     "execution_count": 27,
     "metadata": {},
     "output_type": "execute_result"
    }
   ],
   "source": [
    "comment_box[0].div.div.div.div.text"
   ]
  },
  {
   "cell_type": "code",
   "execution_count": 28,
   "id": "d60ca454-ad1a-4463-8d29-411288940e09",
   "metadata": {},
   "outputs": [
    {
     "name": "stdout",
     "output_type": "stream",
     "text": [
      "5\n",
      "5\n",
      "5\n",
      "5\n",
      "5\n",
      "5\n",
      "5\n",
      "5\n",
      "5\n",
      "4\n"
     ]
    },
    {
     "ename": "AttributeError",
     "evalue": "'NoneType' object has no attribute 'div'",
     "output_type": "error",
     "traceback": [
      "\u001b[0;31m---------------------------------------------------------------------------\u001b[0m",
      "\u001b[0;31mAttributeError\u001b[0m                            Traceback (most recent call last)",
      "Cell \u001b[0;32mIn [28], line 2\u001b[0m\n\u001b[1;32m      1\u001b[0m \u001b[38;5;28;01mfor\u001b[39;00m i \u001b[38;5;129;01min\u001b[39;00m comment_box:\n\u001b[0;32m----> 2\u001b[0m     \u001b[38;5;28mprint\u001b[39m(\u001b[43mi\u001b[49m\u001b[38;5;241;43m.\u001b[39;49m\u001b[43mdiv\u001b[49m\u001b[38;5;241;43m.\u001b[39;49m\u001b[43mdiv\u001b[49m\u001b[38;5;241m.\u001b[39mdiv\u001b[38;5;241m.\u001b[39mdiv\u001b[38;5;241m.\u001b[39mtext)\n",
      "\u001b[0;31mAttributeError\u001b[0m: 'NoneType' object has no attribute 'div'"
     ]
    }
   ],
   "source": [
    "for i in comment_box:\n",
    "    print(i.div.div.div.div.text)"
   ]
  },
  {
   "cell_type": "code",
   "execution_count": 29,
   "id": "a531bf75-e5a3-4eed-9bc2-9def3d2bfcfd",
   "metadata": {},
   "outputs": [
    {
     "data": {
      "text/plain": [
       "'Classy product'"
      ]
     },
     "execution_count": 29,
     "metadata": {},
     "output_type": "execute_result"
    }
   ],
   "source": [
    "comment_box[0].div.div.div.p.text"
   ]
  },
  {
   "cell_type": "code",
   "execution_count": 30,
   "id": "7b2bb621-9409-4128-9c72-4bdda90e8f91",
   "metadata": {},
   "outputs": [
    {
     "name": "stdout",
     "output_type": "stream",
     "text": [
      "Classy product\n",
      "Simply awesome\n",
      "Simply awesome\n",
      "Terrific\n",
      "Terrific\n",
      "Must buy!\n",
      "Must buy!\n",
      "Must buy!\n",
      "Worth every penny\n",
      "Good quality product\n"
     ]
    },
    {
     "ename": "AttributeError",
     "evalue": "'NoneType' object has no attribute 'div'",
     "output_type": "error",
     "traceback": [
      "\u001b[0;31m---------------------------------------------------------------------------\u001b[0m",
      "\u001b[0;31mAttributeError\u001b[0m                            Traceback (most recent call last)",
      "Cell \u001b[0;32mIn [30], line 2\u001b[0m\n\u001b[1;32m      1\u001b[0m \u001b[38;5;28;01mfor\u001b[39;00m i \u001b[38;5;129;01min\u001b[39;00m comment_box:\n\u001b[0;32m----> 2\u001b[0m     \u001b[38;5;28mprint\u001b[39m(\u001b[43mi\u001b[49m\u001b[38;5;241;43m.\u001b[39;49m\u001b[43mdiv\u001b[49m\u001b[38;5;241;43m.\u001b[39;49m\u001b[43mdiv\u001b[49m\u001b[38;5;241m.\u001b[39mdiv\u001b[38;5;241m.\u001b[39mp\u001b[38;5;241m.\u001b[39mtext)\n",
      "\u001b[0;31mAttributeError\u001b[0m: 'NoneType' object has no attribute 'div'"
     ]
    }
   ],
   "source": [
    "for i in comment_box:\n",
    "    print(i.div.div.div.p.text)"
   ]
  },
  {
   "cell_type": "code",
   "execution_count": 31,
   "id": "1e9157da-1499-44a9-b6f9-58cdb6e8f82d",
   "metadata": {},
   "outputs": [
    {
     "data": {
      "text/plain": [
       "'AwesomeREAD MORE'"
      ]
     },
     "execution_count": 31,
     "metadata": {},
     "output_type": "execute_result"
    }
   ],
   "source": [
    "comment_box[0].div.div.find_all(\"div\",{\"class\":\"\"})[0].text"
   ]
  },
  {
   "cell_type": "code",
   "execution_count": 32,
   "id": "0a24b1ce-7b1c-4752-b158-d1ac34716856",
   "metadata": {},
   "outputs": [
    {
     "name": "stdout",
     "output_type": "stream",
     "text": [
      "AwesomeREAD MORE\n",
      "Awesome CameraREAD MORE\n",
      "Amazing phone  In love with this phoneREAD MORE\n",
      "I am very happy with I phone 12Very Nice Product Thanku FlipkartREAD MORE\n",
      "Awesome camera quality…just love itREAD MORE\n",
      "Camera quality is just fabulous. Interface is very smooth.  Good for photography and videography.READ MORE\n",
      "Best iPhone till date 💕READ MORE\n",
      "Go for itREAD MORE\n",
      "SuperREAD MORE\n",
      "Everything is great except the battery life, camera is awesomeREAD MORE\n"
     ]
    },
    {
     "ename": "AttributeError",
     "evalue": "'NoneType' object has no attribute 'div'",
     "output_type": "error",
     "traceback": [
      "\u001b[0;31m---------------------------------------------------------------------------\u001b[0m",
      "\u001b[0;31mAttributeError\u001b[0m                            Traceback (most recent call last)",
      "Cell \u001b[0;32mIn [32], line 2\u001b[0m\n\u001b[1;32m      1\u001b[0m \u001b[38;5;28;01mfor\u001b[39;00m i \u001b[38;5;129;01min\u001b[39;00m comment_box:\n\u001b[0;32m----> 2\u001b[0m     \u001b[38;5;28mprint\u001b[39m(\u001b[43mi\u001b[49m\u001b[38;5;241;43m.\u001b[39;49m\u001b[43mdiv\u001b[49m\u001b[38;5;241;43m.\u001b[39;49m\u001b[43mdiv\u001b[49m\u001b[38;5;241m.\u001b[39mfind_all(\u001b[38;5;124m\"\u001b[39m\u001b[38;5;124mdiv\u001b[39m\u001b[38;5;124m\"\u001b[39m,{\u001b[38;5;124m\"\u001b[39m\u001b[38;5;124mclass\u001b[39m\u001b[38;5;124m\"\u001b[39m:\u001b[38;5;124m\"\u001b[39m\u001b[38;5;124m\"\u001b[39m})[\u001b[38;5;241m0\u001b[39m]\u001b[38;5;241m.\u001b[39mtext)\n",
      "\u001b[0;31mAttributeError\u001b[0m: 'NoneType' object has no attribute 'div'"
     ]
    }
   ],
   "source": [
    "for i in comment_box:\n",
    "    print(i.div.div.find_all(\"div\",{\"class\":\"\"})[0].text)"
   ]
  },
  {
   "cell_type": "code",
   "execution_count": null,
   "id": "81427fbd-80d9-4bf8-81f1-2f8daf58b384",
   "metadata": {},
   "outputs": [],
   "source": []
  },
  {
   "cell_type": "code",
   "execution_count": null,
   "id": "eada12e2-59cb-409c-b099-54758ae01874",
   "metadata": {},
   "outputs": [],
   "source": []
  }
 ],
 "metadata": {
  "kernelspec": {
   "display_name": "Python 3 (ipykernel)",
   "language": "python",
   "name": "python3"
  },
  "language_info": {
   "codemirror_mode": {
    "name": "ipython",
    "version": 3
   },
   "file_extension": ".py",
   "mimetype": "text/x-python",
   "name": "python",
   "nbconvert_exporter": "python",
   "pygments_lexer": "ipython3",
   "version": "3.10.6"
  }
 },
 "nbformat": 4,
 "nbformat_minor": 5
}
